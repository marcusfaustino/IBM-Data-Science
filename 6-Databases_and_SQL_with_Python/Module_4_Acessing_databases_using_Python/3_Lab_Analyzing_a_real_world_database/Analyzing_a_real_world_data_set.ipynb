{
 "cells": [
  {
   "cell_type": "markdown",
   "id": "c2d64de5-3695-49ad-a1e3-e2958a1891ed",
   "metadata": {},
   "source": [
    "<p style=\"text-align:center\">\n",
    "    <a href=\"https://skills.network\" target=\"_blank\">\n",
    "    <img src=\"https://cf-courses-data.s3.us.cloud-object-storage.appdomain.cloud/assets/logos/SN_web_lightmode.png\" width=\"200\" alt=\"Skills Network Logo\">\n",
    "    </a>\n",
    "</p>\n",
    "\n",
    "# Analyzing a real world data-set with SQL and Python\n",
    "\n",
    "Estimated time needed: **15** minutes\n",
    "\n",
    "## Objectives\n",
    "\n",
    "After completing this lab you will be able to:\n",
    "\n",
    "*   Understand a dataset of selected socioeconomic indicators in Chicago\n",
    "*   Learn how to store data in an SQLite database.\n",
    "*   Solve example problems to practice your SQL skills\n"
   ]
  },
  {
   "cell_type": "markdown",
   "id": "2081f07a-0377-48a5-b3b7-51713588b2fc",
   "metadata": {},
   "source": [
    "## Selected Socioeconomic Indicators in Chicago\n",
    "\n",
    "The city of Chicago released a dataset of socioeconomic data to the Chicago City Portal.\n",
    "This dataset contains a selection of six socioeconomic indicators of public health significance and a “hardship index,” for each Chicago community area, for the years 2008 – 2012.\n",
    "\n",
    "Scores on the hardship index can range from 1 to 100, with a higher index number representing a greater level of hardship.\n",
    "\n",
    "A detailed description of the dataset can be found on [the city of Chicago's website](https://data.cityofchicago.org/Health-Human-Services/Census-Data-Selected-socioeconomic-indicators-in-C/kn9c-c2s2?utm_medium=Exinfluencer&utm_source=Exinfluencer&utm_content=000026UJ&utm_term=10006555&utm_id=NA-SkillsNetwork-Channel-SkillsNetworkCoursesIBMDeveloperSkillsNetworkDB0201ENSkillsNetwork20127838-2021-01-01), but to summarize, the dataset has the following variables:\n",
    "\n",
    "*   **Community Area Number** (`ca`): Used to uniquely identify each row of the dataset\n",
    "\n",
    "*   **Community Area Name** (`community_area_name`): The name of the region in the city of Chicago\n",
    "\n",
    "*   **Percent of Housing Crowded** (`percent_of_housing_crowded`): Percent of occupied housing units with more than one person per room\n",
    "\n",
    "*   **Percent Households Below Poverty** (`percent_households_below_poverty`): Percent of households living below the federal poverty line\n",
    "\n",
    "*   **Percent Aged 16+ Unemployed** (`percent_aged_16_unemployed`): Percent of persons over the age of 16 years that are unemployed\n",
    "\n",
    "*   **Percent Aged 25+ without High School Diploma** (`percent_aged_25_without_high_school_diploma`): Percent of persons over the age of 25 years without a high school education\n",
    "\n",
    "*   **Percent Aged Under** 18 or Over 64:Percent of population under 18 or over 64 years of age (`percent_aged_under_18_or_over_64`): (ie. dependents)\n",
    "\n",
    "*   **Per Capita Income** (`per_capita_income_`): Community Area per capita income is estimated as the sum of tract-level aggragate incomes divided by the total population\n",
    "\n",
    "*   **Hardship Index** (`hardship_index`): Score that incorporates each of the six selected socioeconomic indicators\n",
    "\n",
    "In this Lab, we'll take a look at the variables in the socioeconomic indicators dataset and do some basic analysis with Python.\n"
   ]
  },
  {
   "cell_type": "markdown",
   "id": "e4800e84-8bc1-408a-9c0c-89eb7a99c02b",
   "metadata": {},
   "source": [
    "### Connect to the database\n",
    "\n",
    "Let us first load the SQL extension and establish a connection with the database\n",
    "\n",
    "##### The syntax for connecting to magic sql using sqllite is\n",
    "\n",
    "  **%sql sqlite://DatabaseName**   \n",
    "  \n",
    "where DatabaseName will be your **.db** file \n"
   ]
  },
  {
   "cell_type": "code",
   "execution_count": 1,
   "id": "9c4da388-e723-4ea7-9daf-f793a0b34f09",
   "metadata": {},
   "outputs": [],
   "source": [
    "#!pip install ipython-sql\n",
    "#!pip install seaborn\n",
    "import seaborn as sns\n",
    "%load_ext sql"
   ]
  },
  {
   "cell_type": "code",
   "execution_count": 2,
   "id": "e42207cc-9945-46c7-a276-a982c6eaa98d",
   "metadata": {},
   "outputs": [],
   "source": [
    "import csv, sqlite3\n",
    "\n",
    "con = sqlite3.connect(\"socioeconomic.db\")\n",
    "cur = con.cursor()\n",
    "#!pip install pandas "
   ]
  },
  {
   "cell_type": "code",
   "execution_count": 3,
   "id": "cc6adc9c-a4e0-4cdd-a2ef-d4b45739c88c",
   "metadata": {},
   "outputs": [],
   "source": [
    "%sql sqlite:///socioeconomic.db"
   ]
  },
  {
   "cell_type": "markdown",
   "id": "2e009b5d-9126-4c89-9ade-6a307a5fabff",
   "metadata": {},
   "source": [
    "### Store the dataset in a Table\n",
    "\n",
    "##### In many cases the dataset to be analyzed is available as a .CSV (comma separated values) file, perhaps on the internet. To analyze the data using SQL, it first needs to be stored in the database.\n",
    "\n",
    "##### We will first read the csv files  from the given url  into pandas dataframes\n",
    "\n",
    "##### Next we will be using the  df.to_sql() function to convert each csv file  to a table in sqlite  with the csv data loaded in it.\n",
    "\n"
   ]
  },
  {
   "cell_type": "code",
   "execution_count": 4,
   "id": "ac7cc60d-7867-4c3f-8de0-83ea4282afa0",
   "metadata": {},
   "outputs": [
    {
     "data": {
      "text/plain": [
       "78"
      ]
     },
     "execution_count": 4,
     "metadata": {},
     "output_type": "execute_result"
    }
   ],
   "source": [
    "import pandas as pd\n",
    "df = pd.read_csv('https://data.cityofchicago.org/resource/jcxq-k9xf.csv')\n",
    "df.to_sql(\"chicago_socioeconomic_data\", con, if_exists='replace', index=False,method=\"multi\")\n"
   ]
  },
  {
   "cell_type": "code",
   "execution_count": 5,
   "id": "328b221a-8cf8-4125-a4f7-d3560e01b217",
   "metadata": {},
   "outputs": [],
   "source": [
    "# Install the 'ipython-sql' and 'prettytable' libraries using pip\n",
    "#!pip install ipython-sql prettytable\n",
    "\n",
    "# Import the 'prettytable' library, which is used to display data in a formatted table\n",
    "import prettytable\n",
    "\n",
    "# Set the default display format for prettytable to 'DEFAULT' (i.e., a simple table format)\n",
    "prettytable.DEFAULT = 'DEFAULT'"
   ]
  },
  {
   "cell_type": "markdown",
   "id": "52efa588-25d6-4bd9-8c9a-9c8e66fcac5f",
   "metadata": {},
   "source": [
    "##### You can verify that the table creation was successful by making a basic query like:\n"
   ]
  },
  {
   "cell_type": "code",
   "execution_count": 6,
   "id": "32234b33-d442-4e75-b14a-a3a59af20bbb",
   "metadata": {},
   "outputs": [
    {
     "name": "stdout",
     "output_type": "stream",
     "text": [
      " * sqlite:///socioeconomic.db\n",
      "Done.\n"
     ]
    },
    {
     "data": {
      "text/html": [
       "<table>\n",
       "    <thead>\n",
       "        <tr>\n",
       "            <th>ca</th>\n",
       "            <th>community_area_name</th>\n",
       "            <th>percent_of_housing_crowded</th>\n",
       "            <th>percent_households_below_poverty</th>\n",
       "            <th>percent_aged_16_unemployed</th>\n",
       "            <th>percent_aged_25_without_high_school_diploma</th>\n",
       "            <th>percent_aged_under_18_or_over_64</th>\n",
       "            <th>per_capita_income_</th>\n",
       "            <th>hardship_index</th>\n",
       "        </tr>\n",
       "    </thead>\n",
       "    <tbody>\n",
       "        <tr>\n",
       "            <td>1.0</td>\n",
       "            <td>Rogers Park</td>\n",
       "            <td>7.7</td>\n",
       "            <td>23.6</td>\n",
       "            <td>8.7</td>\n",
       "            <td>18.2</td>\n",
       "            <td>27.5</td>\n",
       "            <td>23939</td>\n",
       "            <td>39.0</td>\n",
       "        </tr>\n",
       "        <tr>\n",
       "            <td>2.0</td>\n",
       "            <td>West Ridge</td>\n",
       "            <td>7.8</td>\n",
       "            <td>17.2</td>\n",
       "            <td>8.8</td>\n",
       "            <td>20.8</td>\n",
       "            <td>38.5</td>\n",
       "            <td>23040</td>\n",
       "            <td>46.0</td>\n",
       "        </tr>\n",
       "        <tr>\n",
       "            <td>3.0</td>\n",
       "            <td>Uptown</td>\n",
       "            <td>3.8</td>\n",
       "            <td>24.0</td>\n",
       "            <td>8.9</td>\n",
       "            <td>11.8</td>\n",
       "            <td>22.2</td>\n",
       "            <td>35787</td>\n",
       "            <td>20.0</td>\n",
       "        </tr>\n",
       "        <tr>\n",
       "            <td>4.0</td>\n",
       "            <td>Lincoln Square</td>\n",
       "            <td>3.4</td>\n",
       "            <td>10.9</td>\n",
       "            <td>8.2</td>\n",
       "            <td>13.4</td>\n",
       "            <td>25.5</td>\n",
       "            <td>37524</td>\n",
       "            <td>17.0</td>\n",
       "        </tr>\n",
       "        <tr>\n",
       "            <td>5.0</td>\n",
       "            <td>North Center</td>\n",
       "            <td>0.3</td>\n",
       "            <td>7.5</td>\n",
       "            <td>5.2</td>\n",
       "            <td>4.5</td>\n",
       "            <td>26.2</td>\n",
       "            <td>57123</td>\n",
       "            <td>6.0</td>\n",
       "        </tr>\n",
       "    </tbody>\n",
       "</table>"
      ],
      "text/plain": [
       "[(1.0, 'Rogers Park', 7.7, 23.6, 8.7, 18.2, 27.5, 23939, 39.0),\n",
       " (2.0, 'West Ridge', 7.8, 17.2, 8.8, 20.8, 38.5, 23040, 46.0),\n",
       " (3.0, 'Uptown', 3.8, 24.0, 8.9, 11.8, 22.2, 35787, 20.0),\n",
       " (4.0, 'Lincoln Square', 3.4, 10.9, 8.2, 13.4, 25.5, 37524, 17.0),\n",
       " (5.0, 'North Center', 0.3, 7.5, 5.2, 4.5, 26.2, 57123, 6.0)]"
      ]
     },
     "execution_count": 6,
     "metadata": {},
     "output_type": "execute_result"
    }
   ],
   "source": [
    "%sql SELECT * FROM chicago_socioeconomic_data limit 5;"
   ]
  },
  {
   "cell_type": "markdown",
   "id": "0b7a1482-aa4b-436d-bdec-f583121b77af",
   "metadata": {},
   "source": [
    "## Problems\n",
    "\n",
    "### Problem 1\n",
    "\n",
    "##### How many rows are in the dataset?\n"
   ]
  },
  {
   "cell_type": "code",
   "execution_count": 7,
   "id": "8ffa992e-87d2-41af-b8a5-70efdb085b48",
   "metadata": {
    "vscode": {
     "languageId": "sql"
    }
   },
   "outputs": [
    {
     "name": "stdout",
     "output_type": "stream",
     "text": [
      " * sqlite:///socioeconomic.db\n",
      "Done.\n"
     ]
    },
    {
     "data": {
      "text/html": [
       "<table>\n",
       "    <thead>\n",
       "        <tr>\n",
       "            <th>COUNT(ca)</th>\n",
       "        </tr>\n",
       "    </thead>\n",
       "    <tbody>\n",
       "        <tr>\n",
       "            <td>77</td>\n",
       "        </tr>\n",
       "    </tbody>\n",
       "</table>"
      ],
      "text/plain": [
       "[(77,)]"
      ]
     },
     "execution_count": 7,
     "metadata": {},
     "output_type": "execute_result"
    }
   ],
   "source": [
    "%%sql\n",
    "SELECT COUNT(ca) FROM chicago_socioeconomic_data;"
   ]
  },
  {
   "cell_type": "markdown",
   "id": "5870d6e0-5cd6-4ad6-b1e6-4135dcd538cc",
   "metadata": {},
   "source": [
    "<details><summary>Click here for the solution</summary>\n",
    "\n",
    "```python\n",
    "%sql SELECT COUNT(*) FROM chicago_socioeconomic_data;\n",
    "\n",
    "Correct answer: 78\n",
    "```\n",
    "\n",
    "</details>\n"
   ]
  },
  {
   "cell_type": "markdown",
   "id": "2db86745-f6f1-49ff-876d-22ce625f57a4",
   "metadata": {},
   "source": [
    "### Problem 2\n",
    "\n",
    "##### How many community areas in Chicago have a hardship index greater than 50.0?\n"
   ]
  },
  {
   "cell_type": "code",
   "execution_count": 8,
   "id": "8af422b5-f8fb-4eb2-9d42-57cfeca4a9f0",
   "metadata": {
    "vscode": {
     "languageId": "sql"
    }
   },
   "outputs": [
    {
     "name": "stdout",
     "output_type": "stream",
     "text": [
      " * sqlite:///socioeconomic.db\n",
      "Done.\n"
     ]
    },
    {
     "data": {
      "text/html": [
       "<table>\n",
       "    <thead>\n",
       "        <tr>\n",
       "            <th>COUNT(ca)</th>\n",
       "        </tr>\n",
       "    </thead>\n",
       "    <tbody>\n",
       "        <tr>\n",
       "            <td>38</td>\n",
       "        </tr>\n",
       "    </tbody>\n",
       "</table>"
      ],
      "text/plain": [
       "[(38,)]"
      ]
     },
     "execution_count": 8,
     "metadata": {},
     "output_type": "execute_result"
    }
   ],
   "source": [
    "%%sql\n",
    "SELECT COUNT(ca) FROM chicago_socioeconomic_data csd WHERE csd.hardship_index > 50;"
   ]
  },
  {
   "cell_type": "markdown",
   "id": "51b9ac1a-7079-4764-ac43-1753de85c1fc",
   "metadata": {},
   "source": [
    "<details><summary>Click here for the solution</summary>\n",
    "\n",
    "```python\n",
    "%sql SELECT COUNT(*) FROM chicago_socioeconomic_data WHERE hardship_index > 50.0;\n",
    "\n",
    "Correct answer: 38\n",
    "```\n",
    "\n",
    "</details>\n"
   ]
  },
  {
   "cell_type": "markdown",
   "id": "867faa45-6524-4da7-af29-734f694e87d6",
   "metadata": {},
   "source": [
    "### Problem 3\n",
    "\n",
    "##### What is the maximum value of hardship index in this dataset?\n"
   ]
  },
  {
   "cell_type": "code",
   "execution_count": 9,
   "id": "14350341-4e41-4a0d-81a3-f0dc603a1983",
   "metadata": {
    "vscode": {
     "languageId": "sql"
    }
   },
   "outputs": [
    {
     "name": "stdout",
     "output_type": "stream",
     "text": [
      " * sqlite:///socioeconomic.db\n",
      "Done.\n"
     ]
    },
    {
     "data": {
      "text/html": [
       "<table>\n",
       "    <thead>\n",
       "        <tr>\n",
       "            <th>MAX(hardship_index)</th>\n",
       "        </tr>\n",
       "    </thead>\n",
       "    <tbody>\n",
       "        <tr>\n",
       "            <td>98.0</td>\n",
       "        </tr>\n",
       "    </tbody>\n",
       "</table>"
      ],
      "text/plain": [
       "[(98.0,)]"
      ]
     },
     "execution_count": 9,
     "metadata": {},
     "output_type": "execute_result"
    }
   ],
   "source": [
    "%%sql\n",
    "SELECT MAX(hardship_index) FROM chicago_socioeconomic_data;"
   ]
  },
  {
   "cell_type": "markdown",
   "id": "a9b594e1-febf-4bc3-a955-7230636a9822",
   "metadata": {},
   "source": [
    "<details><summary>Click here for the solution</summary>\n",
    "\n",
    "```python\n",
    "%sql SELECT MAX(hardship_index) FROM chicago_socioeconomic_data;\n",
    "\n",
    "Correct answer: 98.0\n",
    "```\n",
    "\n",
    "</details>\n"
   ]
  },
  {
   "cell_type": "markdown",
   "id": "dde13717-3bc3-4839-8b7c-2779496af88a",
   "metadata": {},
   "source": [
    "### Problem 4\n",
    "\n",
    "##### Which community area which has the highest hardship index?\n"
   ]
  },
  {
   "cell_type": "code",
   "execution_count": 10,
   "id": "a4327a10-16de-460e-b293-ca2edb9f9034",
   "metadata": {
    "vscode": {
     "languageId": "sql"
    }
   },
   "outputs": [
    {
     "name": "stdout",
     "output_type": "stream",
     "text": [
      " * sqlite:///socioeconomic.db\n",
      "Done.\n"
     ]
    },
    {
     "data": {
      "text/html": [
       "<table>\n",
       "    <thead>\n",
       "        <tr>\n",
       "            <th>community_area_name</th>\n",
       "        </tr>\n",
       "    </thead>\n",
       "    <tbody>\n",
       "        <tr>\n",
       "            <td>Riverdale</td>\n",
       "        </tr>\n",
       "    </tbody>\n",
       "</table>"
      ],
      "text/plain": [
       "[('Riverdale',)]"
      ]
     },
     "execution_count": 10,
     "metadata": {},
     "output_type": "execute_result"
    }
   ],
   "source": [
    "%%sql\n",
    "SELECT community_area_name FROM chicago_socioeconomic_data WHERE hardship_index = (SELECT MAX(hardship_index) \n",
    "                                                               FROM chicago_socioeconomic_data);"
   ]
  },
  {
   "cell_type": "markdown",
   "id": "1e6c2779-09dc-49c2-90f8-372a2b5932d9",
   "metadata": {},
   "source": [
    "<details><summary>Click here for the solution</summary>\n",
    "\n",
    "```python\n",
    "#We can use the result of the last query to as an input to this query:\n",
    "%sql SELECT community_area_name FROM chicago_socioeconomic_data where hardship_index=98.0;\n",
    "\n",
    "#or another option:\n",
    "%sql SELECT community_area_name FROM chicago_socioeconomic_data ORDER BY hardship_index DESC LIMIT 1;\n",
    "\n",
    "#or you can use a sub-query to determine the max hardship index:\n",
    "%sql select community_area_name from chicago_socioeconomic_data where hardship_index = ( select max(hardship_index) from chicago_socioeconomic_data );\n",
    "\n",
    "Correct answer: 'Riverdale'\n",
    "    \n",
    "```\n",
    "\n",
    "</details>\n"
   ]
  },
  {
   "cell_type": "markdown",
   "id": "7f3ffdf3-1cd1-40fb-972c-935ad165b51c",
   "metadata": {},
   "source": [
    "### Problem 5\n",
    "\n",
    "##### Which Chicago community areas have per-capita incomes greater than $60,000?\n"
   ]
  },
  {
   "cell_type": "code",
   "execution_count": 11,
   "id": "d4792eb6-ecfe-4a88-ad3a-63663e37927c",
   "metadata": {
    "vscode": {
     "languageId": "sql"
    }
   },
   "outputs": [
    {
     "name": "stdout",
     "output_type": "stream",
     "text": [
      " * sqlite:///socioeconomic.db\n",
      "Done.\n"
     ]
    },
    {
     "data": {
      "text/html": [
       "<table>\n",
       "    <thead>\n",
       "        <tr>\n",
       "            <th>community_area_name</th>\n",
       "            <th>per_capita_income_</th>\n",
       "        </tr>\n",
       "    </thead>\n",
       "    <tbody>\n",
       "        <tr>\n",
       "            <td>Lake View</td>\n",
       "            <td>60058</td>\n",
       "        </tr>\n",
       "        <tr>\n",
       "            <td>Lincoln Park</td>\n",
       "            <td>71551</td>\n",
       "        </tr>\n",
       "        <tr>\n",
       "            <td>Near North Side</td>\n",
       "            <td>88669</td>\n",
       "        </tr>\n",
       "        <tr>\n",
       "            <td>Loop</td>\n",
       "            <td>65526</td>\n",
       "        </tr>\n",
       "    </tbody>\n",
       "</table>"
      ],
      "text/plain": [
       "[('Lake View', 60058),\n",
       " ('Lincoln Park', 71551),\n",
       " ('Near North Side', 88669),\n",
       " ('Loop', 65526)]"
      ]
     },
     "execution_count": 11,
     "metadata": {},
     "output_type": "execute_result"
    }
   ],
   "source": [
    "%%sql\n",
    "SELECT community_area_name, per_capita_income_ FROM chicago_socioeconomic_data WHERE per_capita_income_ > 60000;"
   ]
  },
  {
   "cell_type": "markdown",
   "id": "6180f2d8-88ec-4593-bfc1-aa54c59c2673",
   "metadata": {},
   "source": [
    "<details><summary>Click here for the solution</summary>\n",
    "\n",
    "```python\n",
    "%sql SELECT community_area_name FROM chicago_socioeconomic_data WHERE per_capita_income_ > 60000;\n",
    "\n",
    "Correct answer:Lake View,Lincoln Park, Near North Side, Loop\n",
    "    \n",
    "```\n",
    "\n",
    "</details>\n"
   ]
  },
  {
   "cell_type": "markdown",
   "id": "670caa5c-1532-4fd8-952d-69c2752e6e72",
   "metadata": {},
   "source": [
    "### Problem 6\n",
    "\n",
    "##### Create a scatter plot using the variables `per_capita_income_` and `hardship_index`. Explain the correlation between the two variables.\n"
   ]
  },
  {
   "cell_type": "code",
   "execution_count": 12,
   "id": "21cd0d45-6fa5-464f-bd49-a71afaf29f02",
   "metadata": {},
   "outputs": [
    {
     "name": "stdout",
     "output_type": "stream",
     "text": [
      "The higher the per capita income, the lower the hardship index.\n"
     ]
    },
    {
     "data": {
      "image/png": "[encoded data removed]",
      "text/plain": [
       "<Figure size 640x480 with 1 Axes>"
      ]
     },
     "metadata": {},
     "output_type": "display_data"
    }
   ],
   "source": [
    "import pandas as pd\n",
    "\n",
    "query = \"SELECT per_capita_income_, hardship_index FROM chicago_socioeconomic_data;\"\n",
    "df = pd.read_sql(query, con)\n",
    "\n",
    "sns.scatterplot(df, x='per_capita_income_', y='hardship_index')\n",
    "print(\"The higher the per capita income, the lower the hardship index.\")"
   ]
  },
  {
   "cell_type": "markdown",
   "id": "660548b4-bfa7-4403-8093-56048fbdc449",
   "metadata": {},
   "source": [
    "<details><summary>Click here for the solution</summary>\n",
    "\n",
    "```python\n",
    "# if the import command gives ModuleNotFoundError: No module named 'seaborn'\n",
    "# then uncomment the following line i.e. delete the # to install the seaborn package \n",
    "# !pip install seaborn\n",
    "\n",
    "!pip install matplotlib seaborn\n",
    "income_vs_hardship = %sql SELECT per_capita_income_, hardship_index FROM chicago_socioeconomic_data;\n",
    "plot = sns.jointplot(x='per_capita_income_',y='hardship_index', data=income_vs_hardship.DataFrame())\n",
    "\n",
    "\n",
    "Correct answer:You can see that as Per Capita Income rises as the Hardship Index decreases. We see that the points on the scatter plot are somewhat closer to a straight line in the negative direction, so we have a negative correlation between the two variables. \n",
    "    \n",
    "```\n",
    "\n",
    "</details>\n"
   ]
  },
  {
   "cell_type": "markdown",
   "id": "60f3cebd-ba80-4fc5-bae4-a9433be10296",
   "metadata": {},
   "source": [
    "### Conclusion\n",
    "\n",
    "##### Now that you know how to do basic exploratory data analysis using SQL and python visualization tools, you can further explore this dataset to see how the variable `per_capita_income_` is related to `percent_households_below_poverty` and `percent_aged_16_unemployed`. Try to create interesting visualizations!\n"
   ]
  },
  {
   "cell_type": "markdown",
   "id": "50186ffd-0392-426c-adc4-7586e558ea24",
   "metadata": {},
   "source": [
    "## Summary\n",
    "\n",
    "##### In this lab you learned how to store a real world data set from the internet in a database, gain insights into data using SQL queries. You also visualized a portion of the data in the database to see what story it tells.\n"
   ]
  },
  {
   "cell_type": "markdown",
   "id": "1842b5f2-b3ce-48ef-a55e-7ea44d0fe6f0",
   "metadata": {},
   "source": [
    "## Author\n",
    "\n",
    "<a href=\"https://www.linkedin.com/in/ravahuja/?utm_medium=Exinfluencer&utm_source=Exinfluencer&utm_content=000026UJ&utm_term=10006555&utm_id=NA-SkillsNetwork-Channel-SkillsNetworkCoursesIBMDeveloperSkillsNetworkDB0201ENSkillsNetwork20127838-2021-01-01\" target=\"_blank\">Rav Ahuja</a>\n",
    "\n",
    "```{toggle} ## Change Log\n",
    "```\n",
    "```{toggle}| Date (YYYY-MM-DD) | Version | Changed By    | Change Description                 |\n",
    "```\n",
    "```{toggle} | ----------------- | ------- | ------------- | ---------------------------------- |\n",
    "```\n",
    "```{toggle} | 2022-03-04        | 2.3     | Lakshmi Holla     | Made changes in markdown cells |\n",
    "```\n",
    "```{toggle}| 2021-07-09        | 2.2     | Malika        | Updated connection string          |\n",
    "```\n",
    "```{toggle}| 2021-05-06        | 2.1     | Malika Singla | Added libraries                    |\n",
    "```\n",
    "```{toggle}| 2020-08-28        | 2.0     | Lavanya       | Moved lab to course repo in GitLab |\n",
    "```\n",
    "\n",
    "## <h3 align=\"center\"> © IBM Corporation 2020. All rights reserved. <h3/>\n"
   ]
  }
 ],
 "metadata": {
  "kernelspec": {
   "display_name": "IBM_DS",
   "language": "python",
   "name": "python3"
  },
  "language_info": {
   "codemirror_mode": {
    "name": "ipython",
    "version": 3
   },
   "file_extension": ".py",
   "mimetype": "text/x-python",
   "name": "python",
   "nbconvert_exporter": "python",
   "pygments_lexer": "ipython3",
   "version": "3.13.0"
  },
  "prev_pub_hash": "8e027a24ff3e6baa3a502796dfd5fe5aa70ab98fad7ce2f3c59b05b598bddfbc"
 },
 "nbformat": 4,
 "nbformat_minor": 4
}
